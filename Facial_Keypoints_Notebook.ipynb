{
  "nbformat": 4,
  "nbformat_minor": 0,
  "metadata": {
    "colab": {
      "name": "Facial Keypoints Notebook",
      "version": "0.3.2",
      "provenance": [],
      "collapsed_sections": [],
      "include_colab_link": true
    },
    "kernelspec": {
      "name": "python3",
      "display_name": "Python 3"
    }
  },
  "cells": [
    {
      "cell_type": "markdown",
      "metadata": {
        "id": "view-in-github",
        "colab_type": "text"
      },
      "source": [
        "<a href=\"https://colab.research.google.com/github/tucker-anderson/Facial-Keynotes/blob/master/Facial_Keypoints_Notebook.ipynb\" target=\"_parent\"><img src=\"https://colab.research.google.com/assets/colab-badge.svg\" alt=\"Open In Colab\"/></a>"
      ]
    },
    {
      "cell_type": "markdown",
      "metadata": {
        "id": "v3eachzE2k7I",
        "colab_type": "text"
      },
      "source": [
        "# W207 Facial Keynotes"
      ]
    },
    {
      "cell_type": "markdown",
      "metadata": {
        "id": "5nK07EG_2qv-",
        "colab_type": "text"
      },
      "source": [
        "Members:\n",
        "- Tucker Anderson\n",
        "- Bruno Todescan\n",
        "- Madia Taher"
      ]
    },
    {
      "cell_type": "code",
      "metadata": {
        "id": "_T_umTPGLPgI",
        "colab_type": "code",
        "colab": {}
      },
      "source": [
        "#import libraries\n",
        "import numpy as np\n",
        "import pandas as pd\n",
        "import matplotlib.pyplot as plt\n"
      ],
      "execution_count": 0,
      "outputs": []
    }
  ]
}