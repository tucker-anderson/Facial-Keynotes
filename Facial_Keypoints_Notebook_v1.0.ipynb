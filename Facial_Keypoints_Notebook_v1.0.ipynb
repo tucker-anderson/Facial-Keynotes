{
  "nbformat": 4,
  "nbformat_minor": 0,
  "metadata": {
    "colab": {
      "name": "Facial Keypoints Notebook",
      "version": "0.3.2",
      "provenance": [],
      "collapsed_sections": [],
      "toc_visible": true
    },
    "kernelspec": {
      "name": "python3",
      "display_name": "Python 3"
    }
  },
  "cells": [
    {
      "cell_type": "markdown",
      "metadata": {
        "id": "v3eachzE2k7I",
        "colab_type": "text"
      },
      "source": [
        "# W207 Facial Keynotes"
      ]
    },
    {
      "cell_type": "markdown",
      "metadata": {
        "id": "otFI0Iw_2APS",
        "colab_type": "text"
      },
      "source": [
        "#Team "
      ]
    },
    {
      "cell_type": "markdown",
      "metadata": {
        "id": "5nK07EG_2qv-",
        "colab_type": "text"
      },
      "source": [
        "Members:\n",
        "- Tucker Anderson\n",
        "- Bruno Todescan\n",
        "- Madia Taher"
      ]
    },
    {
      "cell_type": "markdown",
      "metadata": {
        "id": "CBqTbt3m2J2n",
        "colab_type": "text"
      },
      "source": [
        "# EDA"
      ]
    },
    {
      "cell_type": "markdown",
      "metadata": {
        "id": "ElavyYtaNmbc",
        "colab_type": "text"
      },
      "source": [
        "duplicate\n",
        "check preprocessing\n",
        "pair dropping\n",
        "how can we check outliers? \n",
        "\n"
      ]
    },
    {
      "cell_type": "code",
      "metadata": {
        "id": "_T_umTPGLPgI",
        "colab_type": "code",
        "colab": {}
      },
      "source": [
        "#import libraries\n",
        "from tensorflow import keras as keras\n",
        "import tensorflow as tf\n",
        "import csv\n",
        "import numpy as np\n",
        "import pandas as pd\n",
        "from matplotlib import pyplot as plt\n",
        "%matplotlib inline\n",
        "\n"
      ],
      "execution_count": 0,
      "outputs": []
    },
    {
      "cell_type": "code",
      "metadata": {
        "id": "Ctw25PC60xDc",
        "colab_type": "code",
        "outputId": "b5b4550d-7aa4-4deb-cbd3-898d4a778854",
        "colab": {
          "base_uri": "https://localhost:8080/",
          "height": 204
        }
      },
      "source": [
        "lookid_data = pd.read_csv(\"IdLookupTable.csv\")\n",
        "lookid_data.head()"
      ],
      "execution_count": 10,
      "outputs": [
        {
          "output_type": "execute_result",
          "data": {
            "text/html": [
              "<div>\n",
              "<style scoped>\n",
              "    .dataframe tbody tr th:only-of-type {\n",
              "        vertical-align: middle;\n",
              "    }\n",
              "\n",
              "    .dataframe tbody tr th {\n",
              "        vertical-align: top;\n",
              "    }\n",
              "\n",
              "    .dataframe thead th {\n",
              "        text-align: right;\n",
              "    }\n",
              "</style>\n",
              "<table border=\"1\" class=\"dataframe\">\n",
              "  <thead>\n",
              "    <tr style=\"text-align: right;\">\n",
              "      <th></th>\n",
              "      <th>RowId</th>\n",
              "      <th>ImageId</th>\n",
              "      <th>FeatureName</th>\n",
              "      <th>Location</th>\n",
              "    </tr>\n",
              "  </thead>\n",
              "  <tbody>\n",
              "    <tr>\n",
              "      <th>0</th>\n",
              "      <td>1</td>\n",
              "      <td>1</td>\n",
              "      <td>left_eye_center_x</td>\n",
              "      <td>NaN</td>\n",
              "    </tr>\n",
              "    <tr>\n",
              "      <th>1</th>\n",
              "      <td>2</td>\n",
              "      <td>1</td>\n",
              "      <td>left_eye_center_y</td>\n",
              "      <td>NaN</td>\n",
              "    </tr>\n",
              "    <tr>\n",
              "      <th>2</th>\n",
              "      <td>3</td>\n",
              "      <td>1</td>\n",
              "      <td>right_eye_center_x</td>\n",
              "      <td>NaN</td>\n",
              "    </tr>\n",
              "    <tr>\n",
              "      <th>3</th>\n",
              "      <td>4</td>\n",
              "      <td>1</td>\n",
              "      <td>right_eye_center_y</td>\n",
              "      <td>NaN</td>\n",
              "    </tr>\n",
              "    <tr>\n",
              "      <th>4</th>\n",
              "      <td>5</td>\n",
              "      <td>1</td>\n",
              "      <td>left_eye_inner_corner_x</td>\n",
              "      <td>NaN</td>\n",
              "    </tr>\n",
              "  </tbody>\n",
              "</table>\n",
              "</div>"
            ],
            "text/plain": [
              "   RowId  ImageId              FeatureName  Location\n",
              "0      1        1        left_eye_center_x       NaN\n",
              "1      2        1        left_eye_center_y       NaN\n",
              "2      3        1       right_eye_center_x       NaN\n",
              "3      4        1       right_eye_center_y       NaN\n",
              "4      5        1  left_eye_inner_corner_x       NaN"
            ]
          },
          "metadata": {
            "tags": []
          },
          "execution_count": 10
        }
      ]
    },
    {
      "cell_type": "code",
      "metadata": {
        "id": "QXVftA67DrMw",
        "colab_type": "code",
        "outputId": "a4bf5047-43be-4563-f2ce-214253c46788",
        "colab": {
          "base_uri": "https://localhost:8080/",
          "height": 34
        }
      },
      "source": [
        "from google.colab import drive\n",
        "drive.mount('/content/drive')"
      ],
      "execution_count": 11,
      "outputs": [
        {
          "output_type": "stream",
          "text": [
            "Drive already mounted at /content/drive; to attempt to forcibly remount, call drive.mount(\"/content/drive\", force_remount=True).\n"
          ],
          "name": "stdout"
        }
      ]
    },
    {
      "cell_type": "code",
      "metadata": {
        "id": "jPjN_vZNazxA",
        "colab_type": "code",
        "outputId": "48cced23-1482-4da2-abbd-675d5b83d4c5",
        "colab": {
          "base_uri": "https://localhost:8080/",
          "height": 204
        }
      },
      "source": [
        "samplesubmission = pd.read_csv(\"SampleSubmission.csv\")\n",
        "samplesubmission.head()"
      ],
      "execution_count": 12,
      "outputs": [
        {
          "output_type": "execute_result",
          "data": {
            "text/html": [
              "<div>\n",
              "<style scoped>\n",
              "    .dataframe tbody tr th:only-of-type {\n",
              "        vertical-align: middle;\n",
              "    }\n",
              "\n",
              "    .dataframe tbody tr th {\n",
              "        vertical-align: top;\n",
              "    }\n",
              "\n",
              "    .dataframe thead th {\n",
              "        text-align: right;\n",
              "    }\n",
              "</style>\n",
              "<table border=\"1\" class=\"dataframe\">\n",
              "  <thead>\n",
              "    <tr style=\"text-align: right;\">\n",
              "      <th></th>\n",
              "      <th>RowId</th>\n",
              "      <th>Location</th>\n",
              "    </tr>\n",
              "  </thead>\n",
              "  <tbody>\n",
              "    <tr>\n",
              "      <th>0</th>\n",
              "      <td>1</td>\n",
              "      <td>0</td>\n",
              "    </tr>\n",
              "    <tr>\n",
              "      <th>1</th>\n",
              "      <td>2</td>\n",
              "      <td>0</td>\n",
              "    </tr>\n",
              "    <tr>\n",
              "      <th>2</th>\n",
              "      <td>3</td>\n",
              "      <td>0</td>\n",
              "    </tr>\n",
              "    <tr>\n",
              "      <th>3</th>\n",
              "      <td>4</td>\n",
              "      <td>0</td>\n",
              "    </tr>\n",
              "    <tr>\n",
              "      <th>4</th>\n",
              "      <td>5</td>\n",
              "      <td>0</td>\n",
              "    </tr>\n",
              "  </tbody>\n",
              "</table>\n",
              "</div>"
            ],
            "text/plain": [
              "   RowId  Location\n",
              "0      1         0\n",
              "1      2         0\n",
              "2      3         0\n",
              "3      4         0\n",
              "4      5         0"
            ]
          },
          "metadata": {
            "tags": []
          },
          "execution_count": 12
        }
      ]
    },
    {
      "cell_type": "code",
      "metadata": {
        "id": "qscxoyuOcNAV",
        "colab_type": "code",
        "outputId": "e5cedd54-5cc1-43cf-e4ea-10102064d8de",
        "colab": {
          "base_uri": "https://localhost:8080/",
          "height": 1000
        }
      },
      "source": [
        "train_data = pd.read_csv(\"training.csv\")\n",
        "train_data.head().T\n"
      ],
      "execution_count": 18,
      "outputs": [
        {
          "output_type": "execute_result",
          "data": {
            "text/html": [
              "<div>\n",
              "<style scoped>\n",
              "    .dataframe tbody tr th:only-of-type {\n",
              "        vertical-align: middle;\n",
              "    }\n",
              "\n",
              "    .dataframe tbody tr th {\n",
              "        vertical-align: top;\n",
              "    }\n",
              "\n",
              "    .dataframe thead th {\n",
              "        text-align: right;\n",
              "    }\n",
              "</style>\n",
              "<table border=\"1\" class=\"dataframe\">\n",
              "  <thead>\n",
              "    <tr style=\"text-align: right;\">\n",
              "      <th></th>\n",
              "      <th>0</th>\n",
              "      <th>1</th>\n",
              "      <th>2</th>\n",
              "      <th>3</th>\n",
              "      <th>4</th>\n",
              "    </tr>\n",
              "  </thead>\n",
              "  <tbody>\n",
              "    <tr>\n",
              "      <th>left_eye_center_x</th>\n",
              "      <td>66.0336</td>\n",
              "      <td>64.3329</td>\n",
              "      <td>65.0571</td>\n",
              "      <td>65.2257</td>\n",
              "      <td>66.7253</td>\n",
              "    </tr>\n",
              "    <tr>\n",
              "      <th>left_eye_center_y</th>\n",
              "      <td>39.0023</td>\n",
              "      <td>34.9701</td>\n",
              "      <td>34.9096</td>\n",
              "      <td>37.2618</td>\n",
              "      <td>39.6213</td>\n",
              "    </tr>\n",
              "    <tr>\n",
              "      <th>right_eye_center_x</th>\n",
              "      <td>30.227</td>\n",
              "      <td>29.9493</td>\n",
              "      <td>30.9038</td>\n",
              "      <td>32.0231</td>\n",
              "      <td>32.2448</td>\n",
              "    </tr>\n",
              "    <tr>\n",
              "      <th>right_eye_center_y</th>\n",
              "      <td>36.4217</td>\n",
              "      <td>33.4487</td>\n",
              "      <td>34.9096</td>\n",
              "      <td>37.2618</td>\n",
              "      <td>38.042</td>\n",
              "    </tr>\n",
              "    <tr>\n",
              "      <th>left_eye_inner_corner_x</th>\n",
              "      <td>59.5821</td>\n",
              "      <td>58.8562</td>\n",
              "      <td>59.412</td>\n",
              "      <td>60.0033</td>\n",
              "      <td>58.5659</td>\n",
              "    </tr>\n",
              "    <tr>\n",
              "      <th>left_eye_inner_corner_y</th>\n",
              "      <td>39.6474</td>\n",
              "      <td>35.2743</td>\n",
              "      <td>36.321</td>\n",
              "      <td>39.1272</td>\n",
              "      <td>39.6213</td>\n",
              "    </tr>\n",
              "    <tr>\n",
              "      <th>left_eye_outer_corner_x</th>\n",
              "      <td>73.1303</td>\n",
              "      <td>70.7227</td>\n",
              "      <td>70.9844</td>\n",
              "      <td>72.3147</td>\n",
              "      <td>72.5159</td>\n",
              "    </tr>\n",
              "    <tr>\n",
              "      <th>left_eye_outer_corner_y</th>\n",
              "      <td>39.97</td>\n",
              "      <td>36.1872</td>\n",
              "      <td>36.321</td>\n",
              "      <td>38.381</td>\n",
              "      <td>39.8845</td>\n",
              "    </tr>\n",
              "    <tr>\n",
              "      <th>right_eye_inner_corner_x</th>\n",
              "      <td>36.3566</td>\n",
              "      <td>36.0347</td>\n",
              "      <td>37.6781</td>\n",
              "      <td>37.6186</td>\n",
              "      <td>36.9824</td>\n",
              "    </tr>\n",
              "    <tr>\n",
              "      <th>right_eye_inner_corner_y</th>\n",
              "      <td>37.3894</td>\n",
              "      <td>34.3615</td>\n",
              "      <td>36.321</td>\n",
              "      <td>38.7541</td>\n",
              "      <td>39.0949</td>\n",
              "    </tr>\n",
              "    <tr>\n",
              "      <th>right_eye_outer_corner_x</th>\n",
              "      <td>23.4529</td>\n",
              "      <td>24.4725</td>\n",
              "      <td>24.9764</td>\n",
              "      <td>25.3073</td>\n",
              "      <td>22.5061</td>\n",
              "    </tr>\n",
              "    <tr>\n",
              "      <th>right_eye_outer_corner_y</th>\n",
              "      <td>37.3894</td>\n",
              "      <td>33.1444</td>\n",
              "      <td>36.6032</td>\n",
              "      <td>38.0079</td>\n",
              "      <td>38.3052</td>\n",
              "    </tr>\n",
              "    <tr>\n",
              "      <th>left_eyebrow_inner_end_x</th>\n",
              "      <td>56.9533</td>\n",
              "      <td>53.9874</td>\n",
              "      <td>55.7425</td>\n",
              "      <td>56.4338</td>\n",
              "      <td>57.2496</td>\n",
              "    </tr>\n",
              "    <tr>\n",
              "      <th>left_eyebrow_inner_end_y</th>\n",
              "      <td>29.0336</td>\n",
              "      <td>28.2759</td>\n",
              "      <td>27.5709</td>\n",
              "      <td>30.9299</td>\n",
              "      <td>30.6722</td>\n",
              "    </tr>\n",
              "    <tr>\n",
              "      <th>left_eyebrow_outer_end_x</th>\n",
              "      <td>80.2271</td>\n",
              "      <td>78.6342</td>\n",
              "      <td>78.8874</td>\n",
              "      <td>77.9103</td>\n",
              "      <td>77.7629</td>\n",
              "    </tr>\n",
              "    <tr>\n",
              "      <th>left_eyebrow_outer_end_y</th>\n",
              "      <td>32.2281</td>\n",
              "      <td>30.4059</td>\n",
              "      <td>32.6516</td>\n",
              "      <td>31.6657</td>\n",
              "      <td>31.7372</td>\n",
              "    </tr>\n",
              "    <tr>\n",
              "      <th>right_eyebrow_inner_end_x</th>\n",
              "      <td>40.2276</td>\n",
              "      <td>42.7289</td>\n",
              "      <td>42.1939</td>\n",
              "      <td>41.6715</td>\n",
              "      <td>38.0354</td>\n",
              "    </tr>\n",
              "    <tr>\n",
              "      <th>right_eyebrow_inner_end_y</th>\n",
              "      <td>29.0023</td>\n",
              "      <td>26.146</td>\n",
              "      <td>28.1355</td>\n",
              "      <td>31.05</td>\n",
              "      <td>30.9354</td>\n",
              "    </tr>\n",
              "    <tr>\n",
              "      <th>right_eyebrow_outer_end_x</th>\n",
              "      <td>16.3564</td>\n",
              "      <td>16.8654</td>\n",
              "      <td>16.7912</td>\n",
              "      <td>20.458</td>\n",
              "      <td>15.9259</td>\n",
              "    </tr>\n",
              "    <tr>\n",
              "      <th>right_eyebrow_outer_end_y</th>\n",
              "      <td>29.6475</td>\n",
              "      <td>27.0589</td>\n",
              "      <td>32.0871</td>\n",
              "      <td>29.9093</td>\n",
              "      <td>30.6722</td>\n",
              "    </tr>\n",
              "    <tr>\n",
              "      <th>nose_tip_x</th>\n",
              "      <td>44.4206</td>\n",
              "      <td>48.2063</td>\n",
              "      <td>47.5573</td>\n",
              "      <td>51.8851</td>\n",
              "      <td>43.2995</td>\n",
              "    </tr>\n",
              "    <tr>\n",
              "      <th>nose_tip_y</th>\n",
              "      <td>57.0668</td>\n",
              "      <td>55.6609</td>\n",
              "      <td>53.5389</td>\n",
              "      <td>54.1665</td>\n",
              "      <td>64.8895</td>\n",
              "    </tr>\n",
              "    <tr>\n",
              "      <th>mouth_left_corner_x</th>\n",
              "      <td>61.1953</td>\n",
              "      <td>56.4214</td>\n",
              "      <td>60.8229</td>\n",
              "      <td>65.5989</td>\n",
              "      <td>60.6714</td>\n",
              "    </tr>\n",
              "    <tr>\n",
              "      <th>mouth_left_corner_y</th>\n",
              "      <td>79.9702</td>\n",
              "      <td>76.352</td>\n",
              "      <td>73.0143</td>\n",
              "      <td>72.7037</td>\n",
              "      <td>77.5232</td>\n",
              "    </tr>\n",
              "    <tr>\n",
              "      <th>mouth_right_corner_x</th>\n",
              "      <td>28.6145</td>\n",
              "      <td>35.1224</td>\n",
              "      <td>33.7263</td>\n",
              "      <td>37.2455</td>\n",
              "      <td>31.1918</td>\n",
              "    </tr>\n",
              "    <tr>\n",
              "      <th>mouth_right_corner_y</th>\n",
              "      <td>77.389</td>\n",
              "      <td>76.0477</td>\n",
              "      <td>72.732</td>\n",
              "      <td>74.1955</td>\n",
              "      <td>76.9973</td>\n",
              "    </tr>\n",
              "    <tr>\n",
              "      <th>mouth_center_top_lip_x</th>\n",
              "      <td>43.3126</td>\n",
              "      <td>46.6846</td>\n",
              "      <td>47.2749</td>\n",
              "      <td>50.3032</td>\n",
              "      <td>44.9627</td>\n",
              "    </tr>\n",
              "    <tr>\n",
              "      <th>mouth_center_top_lip_y</th>\n",
              "      <td>72.9355</td>\n",
              "      <td>70.2666</td>\n",
              "      <td>70.1918</td>\n",
              "      <td>70.0917</td>\n",
              "      <td>73.7074</td>\n",
              "    </tr>\n",
              "    <tr>\n",
              "      <th>mouth_center_bottom_lip_x</th>\n",
              "      <td>43.1307</td>\n",
              "      <td>45.4679</td>\n",
              "      <td>47.2749</td>\n",
              "      <td>51.5612</td>\n",
              "      <td>44.2271</td>\n",
              "    </tr>\n",
              "    <tr>\n",
              "      <th>mouth_center_bottom_lip_y</th>\n",
              "      <td>84.4858</td>\n",
              "      <td>85.4802</td>\n",
              "      <td>78.6594</td>\n",
              "      <td>78.2684</td>\n",
              "      <td>86.8712</td>\n",
              "    </tr>\n",
              "    <tr>\n",
              "      <th>Image</th>\n",
              "      <td>238 236 237 238 240 240 239 241 241 243 240 23...</td>\n",
              "      <td>219 215 204 196 204 211 212 200 180 168 178 19...</td>\n",
              "      <td>144 142 159 180 188 188 184 180 167 132 84 59 ...</td>\n",
              "      <td>193 192 193 194 194 194 193 192 168 111 50 12 ...</td>\n",
              "      <td>147 148 160 196 215 214 216 217 219 220 206 18...</td>\n",
              "    </tr>\n",
              "  </tbody>\n",
              "</table>\n",
              "</div>"
            ],
            "text/plain": [
              "                                                                           0  ...                                                  4\n",
              "left_eye_center_x                                                    66.0336  ...                                            66.7253\n",
              "left_eye_center_y                                                    39.0023  ...                                            39.6213\n",
              "right_eye_center_x                                                    30.227  ...                                            32.2448\n",
              "right_eye_center_y                                                   36.4217  ...                                             38.042\n",
              "left_eye_inner_corner_x                                              59.5821  ...                                            58.5659\n",
              "left_eye_inner_corner_y                                              39.6474  ...                                            39.6213\n",
              "left_eye_outer_corner_x                                              73.1303  ...                                            72.5159\n",
              "left_eye_outer_corner_y                                                39.97  ...                                            39.8845\n",
              "right_eye_inner_corner_x                                             36.3566  ...                                            36.9824\n",
              "right_eye_inner_corner_y                                             37.3894  ...                                            39.0949\n",
              "right_eye_outer_corner_x                                             23.4529  ...                                            22.5061\n",
              "right_eye_outer_corner_y                                             37.3894  ...                                            38.3052\n",
              "left_eyebrow_inner_end_x                                             56.9533  ...                                            57.2496\n",
              "left_eyebrow_inner_end_y                                             29.0336  ...                                            30.6722\n",
              "left_eyebrow_outer_end_x                                             80.2271  ...                                            77.7629\n",
              "left_eyebrow_outer_end_y                                             32.2281  ...                                            31.7372\n",
              "right_eyebrow_inner_end_x                                            40.2276  ...                                            38.0354\n",
              "right_eyebrow_inner_end_y                                            29.0023  ...                                            30.9354\n",
              "right_eyebrow_outer_end_x                                            16.3564  ...                                            15.9259\n",
              "right_eyebrow_outer_end_y                                            29.6475  ...                                            30.6722\n",
              "nose_tip_x                                                           44.4206  ...                                            43.2995\n",
              "nose_tip_y                                                           57.0668  ...                                            64.8895\n",
              "mouth_left_corner_x                                                  61.1953  ...                                            60.6714\n",
              "mouth_left_corner_y                                                  79.9702  ...                                            77.5232\n",
              "mouth_right_corner_x                                                 28.6145  ...                                            31.1918\n",
              "mouth_right_corner_y                                                  77.389  ...                                            76.9973\n",
              "mouth_center_top_lip_x                                               43.3126  ...                                            44.9627\n",
              "mouth_center_top_lip_y                                               72.9355  ...                                            73.7074\n",
              "mouth_center_bottom_lip_x                                            43.1307  ...                                            44.2271\n",
              "mouth_center_bottom_lip_y                                            84.4858  ...                                            86.8712\n",
              "Image                      238 236 237 238 240 240 239 241 241 243 240 23...  ...  147 148 160 196 215 214 216 217 219 220 206 18...\n",
              "\n",
              "[31 rows x 5 columns]"
            ]
          },
          "metadata": {
            "tags": []
          },
          "execution_count": 18
        }
      ]
    },
    {
      "cell_type": "code",
      "metadata": {
        "id": "jQDAXQdNEj8J",
        "colab_type": "code",
        "colab": {
          "base_uri": "https://localhost:8080/",
          "height": 1000
        },
        "outputId": "68445584-87e1-440e-c42b-683ade7b8478"
      },
      "source": [
        "train_data['Image']"
      ],
      "execution_count": 17,
      "outputs": [
        {
          "output_type": "execute_result",
          "data": {
            "text/plain": [
              "0      238 236 237 238 240 240 239 241 241 243 240 23...\n",
              "1      219 215 204 196 204 211 212 200 180 168 178 19...\n",
              "2      144 142 159 180 188 188 184 180 167 132 84 59 ...\n",
              "3      193 192 193 194 194 194 193 192 168 111 50 12 ...\n",
              "4      147 148 160 196 215 214 216 217 219 220 206 18...\n",
              "5      167 169 170 167 156 145 106 68 52 24 20 15 21 ...\n",
              "6      109 109 125 141 145 139 120 81 45 34 31 35 36 ...\n",
              "7      178 177 178 179 179 179 181 185 188 184 192 20...\n",
              "8      164 158 118 76 66 69 59 53 43 31 35 41 45 55 6...\n",
              "9      226 227 225 224 221 220 215 210 210 208 206 18...\n",
              "10     52 51 54 57 57 56 55 55 56 59 62 66 67 72 79 8...\n",
              "11     142 124 123 133 140 147 151 147 137 136 125 12...\n",
              "12     86 93 106 114 112 110 111 113 138 147 148 132 ...\n",
              "13     75 65 63 75 70 78 84 97 106 71 39 25 23 21 18 ...\n",
              "14     119 106 101 106 89 66 67 72 85 112 118 109 96 ...\n",
              "15     52 54 74 76 55 48 47 41 38 37 34 33 33 31 30 3...\n",
              "16     201 200 202 193 124 59 53 50 48 56 66 76 114 1...\n",
              "17     202 201 201 202 201 200 200 200 199 200 173 74...\n",
              "18     181 182 182 181 182 184 186 186 187 189 202 20...\n",
              "19     64 56 53 51 57 74 85 86 88 90 95 99 97 92 96 9...\n",
              "20     240 240 240 239 235 233 231 227 222 218 213 20...\n",
              "21     245 245 245 252 210 95 46 42 43 45 45 52 67 80...\n",
              "22     185 185 187 185 184 184 184 183 184 182 180 18...\n",
              "23     241 241 241 240 241 239 235 233 228 224 224 22...\n",
              "24     109 106 57 10 11 18 17 15 17 18 17 20 15 11 19...\n",
              "25     254 254 254 254 254 254 254 254 253 255 219 13...\n",
              "26     5 2 5 9 10 5 6 8 4 2 1 1 9 12 10 10 10 10 12 1...\n",
              "27     196 195 192 192 191 191 189 190 186 176 171 16...\n",
              "28     177 175 176 175 177 177 176 182 184 184 189 19...\n",
              "29     160 157 159 152 143 160 176 181 172 116 57 47 ...\n",
              "                             ...                        \n",
              "409    252 251 252 251 251 252 252 250 253 243 172 75...\n",
              "410    80 83 86 74 68 64 56 52 49 66 93 98 107 114 87...\n",
              "411    170 166 149 128 97 52 17 11 21 19 17 21 25 19 ...\n",
              "412    141 119 72 35 19 18 17 16 17 21 20 27 33 41 43...\n",
              "413    38 40 47 45 34 31 39 45 42 37 36 36 35 31 25 2...\n",
              "414    175 177 177 175 177 112 21 16 21 23 25 34 30 2...\n",
              "415    200 198 199 197 197 195 195 191 195 192 177 16...\n",
              "416    208 201 179 157 133 99 51 12 2 2 1 3 6 11 14 1...\n",
              "417    236 210 205 213 214 205 193 175 177 199 209 21...\n",
              "418    184 184 185 187 185 186 186 185 200 153 39 11 ...\n",
              "419    230 229 221 188 156 125 113 134 139 108 80 71 ...\n",
              "420    131 105 87 88 74 65 54 41 31 30 38 37 35 36 39...\n",
              "421    205 203 209 207 104 29 35 24 17 23 28 35 37 32...\n",
              "422    137 158 178 180 177 174 154 110 68 53 57 58 65...\n",
              "423    7 13 43 32 26 33 42 35 30 35 44 58 75 85 92 92...\n",
              "424    248 247 247 246 244 237 204 179 176 175 175 18...\n",
              "425    111 123 141 144 142 144 146 146 145 145 138 12...\n",
              "426    182 184 184 183 187 187 188 179 120 56 41 50 6...\n",
              "427    192 191 191 191 190 190 194 182 145 97 49 15 2...\n",
              "428    227 224 224 190 137 134 129 132 193 151 113 82...\n",
              "429    221 219 219 227 188 135 123 132 115 180 174 12...\n",
              "430    244 240 223 179 131 91 77 70 63 57 47 39 36 37...\n",
              "431    182 182 183 182 182 183 181 181 170 137 97 70 ...\n",
              "432    137 146 132 106 80 63 57 57 57 55 48 56 67 59 ...\n",
              "433    118 114 109 97 91 87 83 86 90 90 88 80 71 73 7...\n",
              "434    44 45 39 35 34 37 41 40 34 35 34 33 30 30 30 2...\n",
              "435    196 195 192 193 193 187 174 167 147 127 97 52 ...\n",
              "436    250 249 246 247 246 243 217 155 90 58 47 40 32...\n",
              "437    125 133 132 109 104 101 92 89 106 145 158 155 ...\n",
              "438    99 102 103 103 102 101 95 60 28 9 1 3 3 1 1 1 ...\n",
              "Name: Image, Length: 439, dtype: object"
            ]
          },
          "metadata": {
            "tags": []
          },
          "execution_count": 17
        }
      ]
    },
    {
      "cell_type": "code",
      "metadata": {
        "id": "4aCmgOIMEg-E",
        "colab_type": "code",
        "colab": {
          "base_uri": "https://localhost:8080/",
          "height": 204
        },
        "outputId": "da089b04-e5b6-4d9b-848c-2b0c43ea96be"
      },
      "source": [
        "test_data = pd.read_csv(\"test.csv\")\n",
        "test_data.head()"
      ],
      "execution_count": 20,
      "outputs": [
        {
          "output_type": "execute_result",
          "data": {
            "text/html": [
              "<div>\n",
              "<style scoped>\n",
              "    .dataframe tbody tr th:only-of-type {\n",
              "        vertical-align: middle;\n",
              "    }\n",
              "\n",
              "    .dataframe tbody tr th {\n",
              "        vertical-align: top;\n",
              "    }\n",
              "\n",
              "    .dataframe thead th {\n",
              "        text-align: right;\n",
              "    }\n",
              "</style>\n",
              "<table border=\"1\" class=\"dataframe\">\n",
              "  <thead>\n",
              "    <tr style=\"text-align: right;\">\n",
              "      <th></th>\n",
              "      <th>ImageId</th>\n",
              "      <th>Image</th>\n",
              "    </tr>\n",
              "  </thead>\n",
              "  <tbody>\n",
              "    <tr>\n",
              "      <th>0</th>\n",
              "      <td>1</td>\n",
              "      <td>182 183 182 182 180 180 176 169 156 137 124 10...</td>\n",
              "    </tr>\n",
              "    <tr>\n",
              "      <th>1</th>\n",
              "      <td>2</td>\n",
              "      <td>76 87 81 72 65 59 64 76 69 42 31 38 49 58 58 4...</td>\n",
              "    </tr>\n",
              "    <tr>\n",
              "      <th>2</th>\n",
              "      <td>3</td>\n",
              "      <td>177 176 174 170 169 169 168 166 166 166 161 14...</td>\n",
              "    </tr>\n",
              "    <tr>\n",
              "      <th>3</th>\n",
              "      <td>4</td>\n",
              "      <td>176 174 174 175 174 174 176 176 175 171 165 15...</td>\n",
              "    </tr>\n",
              "    <tr>\n",
              "      <th>4</th>\n",
              "      <td>5</td>\n",
              "      <td>50 47 44 101 144 149 120 58 48 42 35 35 37 39 ...</td>\n",
              "    </tr>\n",
              "  </tbody>\n",
              "</table>\n",
              "</div>"
            ],
            "text/plain": [
              "   ImageId                                              Image\n",
              "0        1  182 183 182 182 180 180 176 169 156 137 124 10...\n",
              "1        2  76 87 81 72 65 59 64 76 69 42 31 38 49 58 58 4...\n",
              "2        3  177 176 174 170 169 169 168 166 166 166 161 14...\n",
              "3        4  176 174 174 175 174 174 176 176 175 171 165 15...\n",
              "4        5  50 47 44 101 144 149 120 58 48 42 35 35 37 39 ..."
            ]
          },
          "metadata": {
            "tags": []
          },
          "execution_count": 20
        }
      ]
    },
    {
      "cell_type": "code",
      "metadata": {
        "id": "dBFbdO2fclPR",
        "colab_type": "code",
        "outputId": "c95e9a8b-d66f-4a0c-afb6-a7a099cc6ea2",
        "colab": {
          "base_uri": "https://localhost:8080/",
          "height": 561
        }
      },
      "source": [
        "train_data.isnull().sum()"
      ],
      "execution_count": 0,
      "outputs": [
        {
          "output_type": "execute_result",
          "data": {
            "text/plain": [
              "left_eye_center_x              10\n",
              "left_eye_center_y              10\n",
              "right_eye_center_x             13\n",
              "right_eye_center_y             13\n",
              "left_eye_inner_corner_x      4778\n",
              "left_eye_inner_corner_y      4778\n",
              "left_eye_outer_corner_x      4782\n",
              "left_eye_outer_corner_y      4782\n",
              "right_eye_inner_corner_x     4781\n",
              "right_eye_inner_corner_y     4781\n",
              "right_eye_outer_corner_x     4781\n",
              "right_eye_outer_corner_y     4781\n",
              "left_eyebrow_inner_end_x     4779\n",
              "left_eyebrow_inner_end_y     4779\n",
              "left_eyebrow_outer_end_x     4824\n",
              "left_eyebrow_outer_end_y     4824\n",
              "right_eyebrow_inner_end_x    4779\n",
              "right_eyebrow_inner_end_y    4779\n",
              "right_eyebrow_outer_end_x    4813\n",
              "right_eyebrow_outer_end_y    4813\n",
              "nose_tip_x                      0\n",
              "nose_tip_y                      0\n",
              "mouth_left_corner_x          4780\n",
              "mouth_left_corner_y          4780\n",
              "mouth_right_corner_x         4779\n",
              "mouth_right_corner_y         4779\n",
              "mouth_center_top_lip_x       4774\n",
              "mouth_center_top_lip_y       4774\n",
              "mouth_center_bottom_lip_x      33\n",
              "mouth_center_bottom_lip_y      33\n",
              "Image                           0\n",
              "dtype: int64"
            ]
          },
          "metadata": {
            "tags": []
          },
          "execution_count": 5
        }
      ]
    },
    {
      "cell_type": "code",
      "metadata": {
        "id": "mtk1sNTd5Dpr",
        "colab_type": "code",
        "outputId": "fbc76e9c-eba6-4eea-bf1d-227facbe867d",
        "colab": {
          "base_uri": "https://localhost:8080/",
          "height": 595
        }
      },
      "source": [
        "print(train_data.count())# prints the number of values for each column\n",
        "print(len(train_data))\n",
        "df = train_data.dropna()  # drop all rows that have missing values in them\n",
        "len(df)"
      ],
      "execution_count": 0,
      "outputs": [
        {
          "output_type": "stream",
          "text": [
            "left_eye_center_x            7039\n",
            "left_eye_center_y            7039\n",
            "right_eye_center_x           7036\n",
            "right_eye_center_y           7036\n",
            "left_eye_inner_corner_x      2271\n",
            "left_eye_inner_corner_y      2271\n",
            "left_eye_outer_corner_x      2267\n",
            "left_eye_outer_corner_y      2267\n",
            "right_eye_inner_corner_x     2268\n",
            "right_eye_inner_corner_y     2268\n",
            "right_eye_outer_corner_x     2268\n",
            "right_eye_outer_corner_y     2268\n",
            "left_eyebrow_inner_end_x     2270\n",
            "left_eyebrow_inner_end_y     2270\n",
            "left_eyebrow_outer_end_x     2225\n",
            "left_eyebrow_outer_end_y     2225\n",
            "right_eyebrow_inner_end_x    2270\n",
            "right_eyebrow_inner_end_y    2270\n",
            "right_eyebrow_outer_end_x    2236\n",
            "right_eyebrow_outer_end_y    2236\n",
            "nose_tip_x                   7049\n",
            "nose_tip_y                   7049\n",
            "mouth_left_corner_x          2269\n",
            "mouth_left_corner_y          2269\n",
            "mouth_right_corner_x         2270\n",
            "mouth_right_corner_y         2270\n",
            "mouth_center_top_lip_x       2275\n",
            "mouth_center_top_lip_y       2275\n",
            "mouth_center_bottom_lip_x    7016\n",
            "mouth_center_bottom_lip_y    7016\n",
            "Image                        7049\n",
            "dtype: int64\n",
            "7049\n"
          ],
          "name": "stdout"
        },
        {
          "output_type": "execute_result",
          "data": {
            "text/plain": [
              "2140"
            ]
          },
          "metadata": {
            "tags": []
          },
          "execution_count": 7
        }
      ]
    },
    {
      "cell_type": "code",
      "metadata": {
        "id": "5ouSaS7nAFgv",
        "colab_type": "code",
        "colab": {}
      },
      "source": [
        "IMAGE_WIDTH = 96\n",
        "IMAGE_HEIGHT = 96"
      ],
      "execution_count": 0,
      "outputs": []
    },
    {
      "cell_type": "code",
      "metadata": {
        "id": "g3PwGEXdAMhe",
        "colab_type": "code",
        "colab": {}
      },
      "source": [
        "def load_dataset():\n",
        "\n",
        "    Xtrain = []\n",
        "    Ytrain = []\n",
        "    with open('training.csv') as csvfile:\n",
        "        reader = csv.DictReader(csvfile)\n",
        "        for row in reader:\n",
        "            img = np.zeros((IMAGE_HEIGHT,IMAGE_WIDTH,1), dtype=np.float)\n",
        "            for i, val in enumerate(row[\"Image\"].split(\" \")):\n",
        "                img[i//IMAGE_WIDTH,i%IMAGE_WIDTH,0] = val\n",
        "            Yitem = []\n",
        "            failed = False\n",
        "            for coord in row:\n",
        "                if coord == \"Image\":\n",
        "                    continue\n",
        "                if(row[coord].strip()==\"\"):\n",
        "                    failed = True\n",
        "                    break\n",
        "                Yitem.append(float(row[coord]))\n",
        "            if not failed:\n",
        "                Xtrain.append(img)\n",
        "                Ytrain.append(Yitem)\n",
        "                \n",
        "    return np.array(Xtrain), np.array(Ytrain, dtype=np.float)"
      ],
      "execution_count": 0,
      "outputs": []
    },
    {
      "cell_type": "code",
      "metadata": {
        "id": "3xo0-rAAAZYz",
        "colab_type": "code",
        "outputId": "42d6095a-f251-4c87-a892-0c82f70da9db",
        "colab": {
          "base_uri": "https://localhost:8080/",
          "height": 850
        }
      },
      "source": [
        "Xdata, Ydata = load_dataset()\n",
        "Xtrain = Xdata[:]\n",
        "Ytrain = Ydata[:]\n",
        "Xtrain[10]"
      ],
      "execution_count": 47,
      "outputs": [
        {
          "output_type": "execute_result",
          "data": {
            "text/plain": [
              "array([[[ 52.],\n",
              "        [ 51.],\n",
              "        [ 54.],\n",
              "        ...,\n",
              "        [208.],\n",
              "        [209.],\n",
              "        [211.]],\n",
              "\n",
              "       [[ 57.],\n",
              "        [ 61.],\n",
              "        [ 60.],\n",
              "        ...,\n",
              "        [210.],\n",
              "        [212.],\n",
              "        [212.]],\n",
              "\n",
              "       [[ 58.],\n",
              "        [ 59.],\n",
              "        [ 58.],\n",
              "        ...,\n",
              "        [214.],\n",
              "        [210.],\n",
              "        [211.]],\n",
              "\n",
              "       ...,\n",
              "\n",
              "       [[ 89.],\n",
              "        [ 80.],\n",
              "        [ 82.],\n",
              "        ...,\n",
              "        [191.],\n",
              "        [191.],\n",
              "        [188.]],\n",
              "\n",
              "       [[ 82.],\n",
              "        [ 78.],\n",
              "        [ 79.],\n",
              "        ...,\n",
              "        [191.],\n",
              "        [190.],\n",
              "        [190.]],\n",
              "\n",
              "       [[ 76.],\n",
              "        [ 70.],\n",
              "        [ 72.],\n",
              "        ...,\n",
              "        [193.],\n",
              "        [190.],\n",
              "        [187.]]])"
            ]
          },
          "metadata": {
            "tags": []
          },
          "execution_count": 47
        }
      ]
    },
    {
      "cell_type": "code",
      "metadata": {
        "id": "bVj5mcwOAz7o",
        "colab_type": "code",
        "colab": {}
      },
      "source": [
        "def show_image(X, Y):\n",
        "    img = np.copy(X)\n",
        "    for i in range(0,Y.shape[0],2):\n",
        "        if 0 < Y[i+1] < IMAGE_HEIGHT and 0 < Y[i] < IMAGE_WIDTH:\n",
        "            img[int(Y[i+1]),int(Y[i]),0] = 255\n",
        "    plt.imshow(img[:,:,0])"
      ],
      "execution_count": 0,
      "outputs": []
    },
    {
      "cell_type": "code",
      "metadata": {
        "id": "rgCNwe2-A9hP",
        "colab_type": "code",
        "outputId": "abea19ff-1b7a-46b2-de35-f1a8d0e770e2",
        "colab": {
          "base_uri": "https://localhost:8080/",
          "height": 283
        }
      },
      "source": [
        "show_image(Xtrain[2], Ytrain[2])"
      ],
      "execution_count": 30,
      "outputs": [
        {
          "output_type": "error",
          "ename": "IndexError",
          "evalue": "ignored",
          "traceback": [
            "\u001b[0;31m---------------------------------------------------------------------------\u001b[0m",
            "\u001b[0;31mIndexError\u001b[0m                                Traceback (most recent call last)",
            "\u001b[0;32m<ipython-input-30-48dd572bb3de>\u001b[0m in \u001b[0;36m<module>\u001b[0;34m()\u001b[0m\n\u001b[0;32m----> 1\u001b[0;31m \u001b[0mshow_image\u001b[0m\u001b[0;34m(\u001b[0m\u001b[0mXtrain\u001b[0m\u001b[0;34m[\u001b[0m\u001b[0;36m2\u001b[0m\u001b[0;34m]\u001b[0m\u001b[0;34m,\u001b[0m \u001b[0mYtrain\u001b[0m\u001b[0;34m[\u001b[0m\u001b[0;36m2\u001b[0m\u001b[0;34m]\u001b[0m\u001b[0;34m)\u001b[0m\u001b[0;34m\u001b[0m\u001b[0;34m\u001b[0m\u001b[0m\n\u001b[0m",
            "\u001b[0;32m<ipython-input-27-33f021365510>\u001b[0m in \u001b[0;36mshow_image\u001b[0;34m(X, Y)\u001b[0m\n\u001b[1;32m      2\u001b[0m     \u001b[0mimg\u001b[0m \u001b[0;34m=\u001b[0m \u001b[0mnp\u001b[0m\u001b[0;34m.\u001b[0m\u001b[0mcopy\u001b[0m\u001b[0;34m(\u001b[0m\u001b[0mX\u001b[0m\u001b[0;34m)\u001b[0m\u001b[0;34m\u001b[0m\u001b[0;34m\u001b[0m\u001b[0m\n\u001b[1;32m      3\u001b[0m     \u001b[0;32mfor\u001b[0m \u001b[0mi\u001b[0m \u001b[0;32min\u001b[0m \u001b[0mrange\u001b[0m\u001b[0;34m(\u001b[0m\u001b[0;36m0\u001b[0m\u001b[0;34m,\u001b[0m\u001b[0mY\u001b[0m\u001b[0;34m.\u001b[0m\u001b[0mshape\u001b[0m\u001b[0;34m[\u001b[0m\u001b[0;36m0\u001b[0m\u001b[0;34m]\u001b[0m\u001b[0;34m,\u001b[0m\u001b[0;36m2\u001b[0m\u001b[0;34m)\u001b[0m\u001b[0;34m:\u001b[0m\u001b[0;34m\u001b[0m\u001b[0;34m\u001b[0m\u001b[0m\n\u001b[0;32m----> 4\u001b[0;31m         \u001b[0;32mif\u001b[0m \u001b[0;36m0\u001b[0m \u001b[0;34m<\u001b[0m \u001b[0mY\u001b[0m\u001b[0;34m[\u001b[0m\u001b[0mi\u001b[0m\u001b[0;34m+\u001b[0m\u001b[0;36m1\u001b[0m\u001b[0;34m]\u001b[0m \u001b[0;34m<\u001b[0m \u001b[0mIMAGE_HEIGHT\u001b[0m \u001b[0;32mand\u001b[0m \u001b[0;36m0\u001b[0m \u001b[0;34m<\u001b[0m \u001b[0mY\u001b[0m\u001b[0;34m[\u001b[0m\u001b[0mi\u001b[0m\u001b[0;34m]\u001b[0m \u001b[0;34m<\u001b[0m \u001b[0mIMAGE_WIDTH\u001b[0m\u001b[0;34m:\u001b[0m\u001b[0;34m\u001b[0m\u001b[0;34m\u001b[0m\u001b[0m\n\u001b[0m\u001b[1;32m      5\u001b[0m             \u001b[0mimg\u001b[0m\u001b[0;34m[\u001b[0m\u001b[0mint\u001b[0m\u001b[0;34m(\u001b[0m\u001b[0mY\u001b[0m\u001b[0;34m[\u001b[0m\u001b[0mi\u001b[0m\u001b[0;34m+\u001b[0m\u001b[0;36m1\u001b[0m\u001b[0;34m]\u001b[0m\u001b[0;34m)\u001b[0m\u001b[0;34m,\u001b[0m\u001b[0mint\u001b[0m\u001b[0;34m(\u001b[0m\u001b[0mY\u001b[0m\u001b[0;34m[\u001b[0m\u001b[0mi\u001b[0m\u001b[0;34m]\u001b[0m\u001b[0;34m)\u001b[0m\u001b[0;34m,\u001b[0m\u001b[0;36m0\u001b[0m\u001b[0;34m]\u001b[0m \u001b[0;34m=\u001b[0m \u001b[0;36m255\u001b[0m\u001b[0;34m\u001b[0m\u001b[0;34m\u001b[0m\u001b[0m\n\u001b[1;32m      6\u001b[0m     \u001b[0mplt\u001b[0m\u001b[0;34m.\u001b[0m\u001b[0mimshow\u001b[0m\u001b[0;34m(\u001b[0m\u001b[0mimg\u001b[0m\u001b[0;34m[\u001b[0m\u001b[0;34m:\u001b[0m\u001b[0;34m,\u001b[0m\u001b[0;34m:\u001b[0m\u001b[0;34m,\u001b[0m\u001b[0;36m0\u001b[0m\u001b[0;34m]\u001b[0m\u001b[0;34m)\u001b[0m\u001b[0;34m\u001b[0m\u001b[0;34m\u001b[0m\u001b[0m\n",
            "\u001b[0;31mIndexError\u001b[0m: index 1 is out of bounds for axis 0 with size 1"
          ]
        }
      ]
    },
    {
      "cell_type": "code",
      "metadata": {
        "id": "7d88VMBJBE5u",
        "colab_type": "code",
        "outputId": "4b0c8330-ee42-4fb0-fefc-c1339b5e836f",
        "colab": {
          "base_uri": "https://localhost:8080/",
          "height": 105
        }
      },
      "source": [
        "# Configure Model\n",
        "model = keras.Sequential([keras.layers.Flatten(input_shape=(IMAGE_HEIGHT, IMAGE_WIDTH,1)),\n",
        "                         keras.layers.Dense(128, activation=\"relu\"),\n",
        "                         keras.layers.Dropout(0.1),\n",
        "                         keras.layers.Dense(64, activation=\"relu\"),\n",
        "                         keras.layers.Dense(30)\n",
        "                         ])"
      ],
      "execution_count": 0,
      "outputs": [
        {
          "output_type": "stream",
          "text": [
            "WARNING: Logging before flag parsing goes to stderr.\n",
            "W0711 21:51:49.518418 140465571891072 deprecation.py:506] From /usr/local/lib/python3.6/dist-packages/tensorflow/python/ops/init_ops.py:1251: calling VarianceScaling.__init__ (from tensorflow.python.ops.init_ops) with dtype is deprecated and will be removed in a future version.\n",
            "Instructions for updating:\n",
            "Call initializer instance with the dtype argument instead of passing it to the constructor\n"
          ],
          "name": "stderr"
        }
      ]
    },
    {
      "cell_type": "code",
      "metadata": {
        "id": "7t714td-BLjo",
        "colab_type": "code",
        "colab": {}
      },
      "source": [
        "# Compile model\n",
        "model.compile(optimizer=tf.train.AdamOptimizer, \n",
        "              loss='mse',\n",
        "              metrics=['accuracy'])"
      ],
      "execution_count": 0,
      "outputs": []
    },
    {
      "cell_type": "code",
      "metadata": {
        "id": "C8eYwWcQCObK",
        "colab_type": "code",
        "outputId": "c72d95b2-8b25-4708-88c0-2f331140fcd0",
        "colab": {
          "base_uri": "https://localhost:8080/",
          "height": 1000
        }
      },
      "source": [
        "# Train model\n",
        "model.fit(Xtrain, Ytrain, epochs=50)"
      ],
      "execution_count": 0,
      "outputs": [
        {
          "output_type": "stream",
          "text": [
            "Epoch 1/50\n",
            "2140/2140 [==============================] - 1s 404us/sample - loss: 13.8178 - acc: 0.7033\n",
            "Epoch 2/50\n",
            "2140/2140 [==============================] - 1s 371us/sample - loss: 10.1687 - acc: 0.7051\n",
            "Epoch 3/50\n",
            "2140/2140 [==============================] - 1s 366us/sample - loss: 10.1623 - acc: 0.7051\n",
            "Epoch 4/50\n",
            "2140/2140 [==============================] - 1s 367us/sample - loss: 10.1621 - acc: 0.7051\n",
            "Epoch 5/50\n",
            "2140/2140 [==============================] - 1s 365us/sample - loss: 10.1630 - acc: 0.7051\n",
            "Epoch 6/50\n",
            "2140/2140 [==============================] - 1s 368us/sample - loss: 10.1545 - acc: 0.7051\n",
            "Epoch 7/50\n",
            "2140/2140 [==============================] - 1s 366us/sample - loss: 10.1651 - acc: 0.7051\n",
            "Epoch 8/50\n",
            "2140/2140 [==============================] - 1s 367us/sample - loss: 10.1616 - acc: 0.7051\n",
            "Epoch 9/50\n",
            "2140/2140 [==============================] - 1s 367us/sample - loss: 10.1598 - acc: 0.7051\n",
            "Epoch 10/50\n",
            "2140/2140 [==============================] - 1s 373us/sample - loss: 10.1682 - acc: 0.7051\n",
            "Epoch 11/50\n",
            "2140/2140 [==============================] - 1s 367us/sample - loss: 10.1652 - acc: 0.7051\n",
            "Epoch 12/50\n",
            "2140/2140 [==============================] - 1s 370us/sample - loss: 10.1661 - acc: 0.7051\n",
            "Epoch 13/50\n",
            "2140/2140 [==============================] - 1s 373us/sample - loss: 10.1674 - acc: 0.7051\n",
            "Epoch 14/50\n",
            "2140/2140 [==============================] - 1s 376us/sample - loss: 10.1728 - acc: 0.7051\n",
            "Epoch 15/50\n",
            "2140/2140 [==============================] - 1s 381us/sample - loss: 10.1664 - acc: 0.7051\n",
            "Epoch 16/50\n",
            "2140/2140 [==============================] - 1s 366us/sample - loss: 10.1598 - acc: 0.7051\n",
            "Epoch 17/50\n",
            "2140/2140 [==============================] - 1s 374us/sample - loss: 10.1609 - acc: 0.7051\n",
            "Epoch 18/50\n",
            "2140/2140 [==============================] - 1s 371us/sample - loss: 10.1643 - acc: 0.7051\n",
            "Epoch 19/50\n",
            "2140/2140 [==============================] - 1s 374us/sample - loss: 10.1722 - acc: 0.7051\n",
            "Epoch 20/50\n",
            "2140/2140 [==============================] - 1s 362us/sample - loss: 10.1671 - acc: 0.7051\n",
            "Epoch 21/50\n",
            "2140/2140 [==============================] - 1s 363us/sample - loss: 10.1718 - acc: 0.7051\n",
            "Epoch 22/50\n",
            "2140/2140 [==============================] - 1s 361us/sample - loss: 10.1699 - acc: 0.7051\n",
            "Epoch 23/50\n",
            "2140/2140 [==============================] - 1s 366us/sample - loss: 10.1674 - acc: 0.7051\n",
            "Epoch 24/50\n",
            "2140/2140 [==============================] - 1s 361us/sample - loss: 10.1701 - acc: 0.7051\n",
            "Epoch 25/50\n",
            "2140/2140 [==============================] - 1s 366us/sample - loss: 10.1645 - acc: 0.7051\n",
            "Epoch 26/50\n",
            "2140/2140 [==============================] - 1s 363us/sample - loss: 10.1712 - acc: 0.7051\n",
            "Epoch 27/50\n",
            "2140/2140 [==============================] - 1s 366us/sample - loss: 10.1690 - acc: 0.7051\n",
            "Epoch 28/50\n",
            "2140/2140 [==============================] - 1s 365us/sample - loss: 10.1677 - acc: 0.7051\n",
            "Epoch 29/50\n",
            "2140/2140 [==============================] - 1s 366us/sample - loss: 10.1651 - acc: 0.7051\n",
            "Epoch 30/50\n",
            "2140/2140 [==============================] - 1s 364us/sample - loss: 10.1669 - acc: 0.7051\n",
            "Epoch 31/50\n",
            "2140/2140 [==============================] - 1s 364us/sample - loss: 10.1653 - acc: 0.7051\n",
            "Epoch 32/50\n",
            "2140/2140 [==============================] - 1s 361us/sample - loss: 10.1664 - acc: 0.7051\n",
            "Epoch 33/50\n",
            "2140/2140 [==============================] - 1s 364us/sample - loss: 10.1744 - acc: 0.7051\n",
            "Epoch 34/50\n",
            "2140/2140 [==============================] - 1s 367us/sample - loss: 10.1781 - acc: 0.7051\n",
            "Epoch 35/50\n",
            "2140/2140 [==============================] - 1s 361us/sample - loss: 10.1813 - acc: 0.7051\n",
            "Epoch 36/50\n",
            "2140/2140 [==============================] - 1s 364us/sample - loss: 10.1682 - acc: 0.7051\n",
            "Epoch 37/50\n",
            "2140/2140 [==============================] - 1s 372us/sample - loss: 10.1669 - acc: 0.7051\n",
            "Epoch 38/50\n",
            "2140/2140 [==============================] - 1s 360us/sample - loss: 10.1663 - acc: 0.7051\n",
            "Epoch 39/50\n",
            "2140/2140 [==============================] - 1s 371us/sample - loss: 10.1659 - acc: 0.7051\n",
            "Epoch 40/50\n",
            "2140/2140 [==============================] - 1s 364us/sample - loss: 10.1691 - acc: 0.7051\n",
            "Epoch 41/50\n",
            "2140/2140 [==============================] - 1s 365us/sample - loss: 10.1580 - acc: 0.7051\n",
            "Epoch 42/50\n",
            "2140/2140 [==============================] - 1s 365us/sample - loss: 10.1774 - acc: 0.7051\n",
            "Epoch 43/50\n",
            "2140/2140 [==============================] - 1s 364us/sample - loss: 10.1650 - acc: 0.7051\n",
            "Epoch 44/50\n",
            "2140/2140 [==============================] - 1s 369us/sample - loss: 10.1703 - acc: 0.7051\n",
            "Epoch 45/50\n",
            "2140/2140 [==============================] - 1s 374us/sample - loss: 10.1664 - acc: 0.7051\n",
            "Epoch 46/50\n",
            "2140/2140 [==============================] - 1s 364us/sample - loss: 10.1626 - acc: 0.7051\n",
            "Epoch 47/50\n",
            "2140/2140 [==============================] - 1s 362us/sample - loss: 10.1702 - acc: 0.7051\n",
            "Epoch 48/50\n",
            "2140/2140 [==============================] - 1s 364us/sample - loss: 10.1711 - acc: 0.7051\n",
            "Epoch 49/50\n",
            "2140/2140 [==============================] - 1s 362us/sample - loss: 10.1696 - acc: 0.7051\n",
            "Epoch 50/50\n",
            "2140/2140 [==============================] - 1s 366us/sample - loss: 10.1717 - acc: 0.7051\n"
          ],
          "name": "stdout"
        },
        {
          "output_type": "execute_result",
          "data": {
            "text/plain": [
              "<tensorflow.python.keras.callbacks.History at 0x7fc06e713198>"
            ]
          },
          "metadata": {
            "tags": []
          },
          "execution_count": 32
        }
      ]
    },
    {
      "cell_type": "code",
      "metadata": {
        "id": "xoVxh_YIIKae",
        "colab_type": "code",
        "colab": {}
      },
      "source": [
        "# Load test data\n",
        "def load_testset():\n",
        "    Xtest = []\n",
        "    with open('test.csv') as csvfile:\n",
        "        reader = csv.DictReader(csvfile)\n",
        "        for row in reader:\n",
        "            img = np.zeros((IMAGE_HEIGHT,IMAGE_WIDTH,1), dtype=np.float)\n",
        "            for i, val in enumerate(row[\"Image\"].split(\" \")):\n",
        "                img[i//IMAGE_WIDTH,i%IMAGE_WIDTH,0] = val\n",
        "            Xtest.append(img)\n",
        "                \n",
        "    return np.array(Xtest)\n",
        "Xtest = load_testset()"
      ],
      "execution_count": 0,
      "outputs": []
    },
    {
      "cell_type": "code",
      "metadata": {
        "id": "rY6-aYcBIPdq",
        "colab_type": "code",
        "colab": {}
      },
      "source": [
        "def show_results(image_index):\n",
        "    Ypred = model.predict(Xtest[image_index:(image_index+1)])\n",
        "    show_image(Xtest[image_index], Ypred[0])"
      ],
      "execution_count": 0,
      "outputs": []
    },
    {
      "cell_type": "code",
      "metadata": {
        "id": "NdbHF3_5ITQW",
        "colab_type": "code",
        "outputId": "cae050dc-e950-4580-fd97-605af50b53df",
        "colab": {
          "base_uri": "https://localhost:8080/",
          "height": 269
        }
      },
      "source": [
        "show_results(10)"
      ],
      "execution_count": 0,
      "outputs": [
        {
          "output_type": "display_data",
          "data": {
            "image/png": "[encoded data removed]",
            "text/plain": [
              "<Figure size 432x288 with 1 Axes>"
            ]
          },
          "metadata": {
            "tags": []
          }
        }
      ]
    },
    {
      "cell_type": "code",
      "metadata": {
        "id": "yFGgaagqIW-B",
        "colab_type": "code",
        "outputId": "b8abafbe-b07c-4360-d6f1-4a5da555cd54",
        "colab": {
          "base_uri": "https://localhost:8080/",
          "height": 164
        }
      },
      "source": [
        "show_results(6220)"
      ],
      "execution_count": 48,
      "outputs": [
        {
          "output_type": "error",
          "ename": "NameError",
          "evalue": "ignored",
          "traceback": [
            "\u001b[0;31m---------------------------------------------------------------------------\u001b[0m",
            "\u001b[0;31mNameError\u001b[0m                                 Traceback (most recent call last)",
            "\u001b[0;32m<ipython-input-48-8a889dddb01f>\u001b[0m in \u001b[0;36m<module>\u001b[0;34m()\u001b[0m\n\u001b[0;32m----> 1\u001b[0;31m \u001b[0mshow_results\u001b[0m\u001b[0;34m(\u001b[0m\u001b[0;36m6220\u001b[0m\u001b[0;34m)\u001b[0m\u001b[0;34m\u001b[0m\u001b[0;34m\u001b[0m\u001b[0m\n\u001b[0m",
            "\u001b[0;31mNameError\u001b[0m: name 'show_results' is not defined"
          ]
        }
      ]
    }
  ]
}